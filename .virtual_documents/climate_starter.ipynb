%matplotlib inline
from matplotlib import style
style.use('fivethirtyeight')
import matplotlib.pyplot as plt


import numpy as np
import pandas as pd
import datetime as dt
import warnings
warnings.simplefilter(action='ignore', category=FutureWarning)





# Python SQL toolkit and Object Relational Mapper
import sqlalchemy
from sqlalchemy.ext.automap import automap_base
from sqlalchemy.orm import Session
from sqlalchemy import create_engine, func


# create engine to hawaii.sqlite
engine = create_engine("sqlite:///Resources/hawaii.sqlite")


# reflect an existing database into a new model
Base = automap_base()
# reflect the tables
Base.prepare(engine, reflect=True)


# View all of the classes that automap found
Base.classes.keys()


# Save references to each table
Measurement = Base.classes.measurement
Station = Base.classes.station


# Create our session (link) from Python to the DB
session = Session(engine)





# Find the most recent date in the data set.
most_recent_date = session.query(func.max(Measurement.date)).scalar()
print("Most recent date in the dataset:", most_recent_date)


# Design a query to retrieve the last 12 months of precipitation data and plot the results. 
# Starting from the most recent data point in the database. 
from datetime import datetime, timedelta

# Calculate the date one year from the last date in data set.
# strptime() is used to parse a string representing a date and time and convert it into a DateTime object
most_recent_date = session.query(func.max(Measurement.date)).scalar()
most_recent_date = datetime.strptime(most_recent_date, '%Y-%m-%d')
one_year_ago = most_recent_date - timedelta(days=365)

# Perform a query to retrieve the data and precipitation scores
precipitation_data = session.query(Measurement.date, Measurement.prcp)\
    .filter(Measurement.date >= one_year_ago)\
    .order_by(Measurement.date).all()

# Save the query results as a Pandas DataFrame. Explicitly set the column names
precipitation_df = pd.DataFrame(precipitation_data, columns=['Date', 'Precipitation'])

# Sort the dataframe by date
precipitation_df = precipitation_df.sort_values(by='Date')

# Use Pandas Plotting with Matplotlib to plot the data
# The x-axis is updated every 2.5 months (75 days)
plt.figure(figsize=(8,6))
plt.bar(precipitation_df['Date'], precipitation_df['Precipitation'], width=3)
plt.xlabel('Date')
plt.ylabel('Precipitation (inches)')
tick_dates = pd.date_range(start=precipitation_df['Date'].min(), end=precipitation_df['Date'].max(), freq='75D')
tick_dates = tick_dates.strftime('%Y-%m-%d').tolist()
plt.xticks(tick_dates, rotation=90)
plt.legend(['precipitation'], loc='upper center')
plt.tight_layout()
plt.show()


# Use Pandas to calculate the summary statistics for the precipitation data
summary_statistics = precipitation_df.describe()
print("\nSummary Statistics for Precipitation Data:")
print(summary_statistics)





# Design a query to calculate the total number of stations in the dataset
total_stations = session.query(func.count(func.distinct(Measurement.station))).scalar()
print("Total number of stations in the dataset:", total_stations)


from sqlalchemy import desc
# Design a query to find the most active stations (i.e. which stations have the most rows?)
# List the stations and their counts in descending order.
active_stations = session.query(Measurement.station, func.count(Measurement.station))\
    .group_by(Measurement.station)\
    .order_by(desc(func.count(Measurement.station)))\
    .all()

print("Most active stations:")
for station, count in active_stations:
    print(f"Station: {station}, Count: {count}")


# Using the most active station id from the previous query, calculate the lowest, highest, and average temperature.
most_active_station_id = active_stations[0][0]

temperature_stats = session.query(func.min(Measurement.tobs), func.max(Measurement.tobs), func.avg(Measurement.tobs))\
    .filter(Measurement.station == most_active_station_id)\
    .all()

lowest_temp, highest_temp, avg_temp = temperature_stats[0]
print(f"Lowest Temperature for station {most_active_station_id}: {lowest_temp} °F")
print(f"Highest Temperature for station {most_active_station_id}: {highest_temp} °F")
print(f"Average Temperature for station {most_active_station_id}: {avg_temp} °F")


# Using the most active station id
# Query the last 12 months of temperature observation data for this station and plot the results as a histogram
most_recent_date = session.query(func.max(Measurement.date)).scalar()
most_recent_date = datetime.strptime(most_recent_date, '%Y-%m-%d')
one_year_ago = most_recent_date - timedelta(days=365)

# Design a query to get the previous 12 months of temperature observation (TOBS) data that filters by the station that has the greatest number of observations
temperature_data = session.query(Measurement.date, Measurement.tobs)\
    .filter(Measurement.station == most_active_station_id)\
    .filter(Measurement.date >= one_year_ago)\
    .order_by(Measurement.date)\
    .all()

# Save the query results to a Pandas DataFrame
temperature_df = pd.DataFrame(temperature_data, columns=['Date', 'Temperature'])

# Plot Histogram
plt.figure(figsize=(8, 6))
plt.hist(temperature_df['Temperature'], bins=12, alpha=0.75, color='darkblue')
plt.xlabel('Temperature (°F)')
plt.ylabel('Frequency')
plt.legend(['tobs'], loc='upper right')
plt.tight_layout()
plt.show()





# Close Session
session.close()



